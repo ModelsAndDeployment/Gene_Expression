{
 "cells": [
  {
   "cell_type": "code",
   "execution_count": 38,
   "id": "f2bbc6a0",
   "metadata": {},
   "outputs": [],
   "source": [
    "# Import all the libraries that we shall be using\n",
    "import numpy as np\n",
    "import pandas as pd\n",
    "\n",
    "import matplotlib.pyplot as plt\n",
    "import seaborn as sns\n",
    "from mpl_toolkits.mplot3d import Axes3D\n",
    "%matplotlib inline\n",
    "\n",
    "from sklearn.preprocessing import StandardScaler\n",
    "from sklearn.decomposition import PCA\n",
    "from sklearn.model_selection import GridSearchCV, cross_val_score\n",
    "from sklearn.metrics import accuracy_score, confusion_matrix\n",
    "from sklearn.cluster import KMeans\n",
    "from sklearn.svm import SVC\n",
    "from sklearn.linear_model import LogisticRegression\n",
    "from sklearn.naive_bayes import GaussianNB\n",
    "from sklearn.ensemble import RandomForestClassifier\n",
    "\n",
    "import xgboost as xgb\n"
   ]
  },
  {
   "cell_type": "code",
   "execution_count": 2,
   "id": "e82f20f2",
   "metadata": {},
   "outputs": [],
   "source": [
    "df = pd.read_csv('Transform_Data.csv')"
   ]
  },
  {
   "cell_type": "code",
   "execution_count": 3,
   "id": "f0714651",
   "metadata": {},
   "outputs": [],
   "source": [
    "df['Dignosis'] = 0"
   ]
  },
  {
   "cell_type": "code",
   "execution_count": 4,
   "id": "3c5868c5",
   "metadata": {},
   "outputs": [
    {
     "data": {
      "text/plain": [
       "<bound method DataFrame.info of    ASCRP3000001  ASCRP3000002  ASCRP3000003  ASCRP3000004  ASCRP3000005  \\\n",
       "0      2.754771      3.478207      3.197430      2.901669      2.928064   \n",
       "1      2.662660      3.391250      3.251786      2.709865      2.831210   \n",
       "2      2.743855      3.441500      3.218639      2.761449      2.906128   \n",
       "3      2.711657      3.383201      3.251237      2.711657      2.848177   \n",
       "4      2.721054      3.449090      3.244738      2.792737      2.886409   \n",
       "5      2.725773      3.390197      3.167238      2.682317      2.842796   \n",
       "6      2.671015      3.400217      3.347342      2.774226      2.890239   \n",
       "7      2.682317      3.370649      3.277187      2.700272      2.847751   \n",
       "\n",
       "   ASCRP3000006  ASCRP3000007  ASCRP3000008  ASCRP3000009  ASCRP3000010  ...  \\\n",
       "0      2.697507      3.140951      2.645558      2.776282      3.032367  ...   \n",
       "1      2.702445      3.066214      2.761449      2.662660      2.832060  ...   \n",
       "2      2.623671      2.994559      2.766857      2.651431      2.836334  ...   \n",
       "3      2.698050      3.071335      2.746808      2.656658      2.792050  ...   \n",
       "4      2.629597      3.010860      2.786056      2.671015      2.837675  ...   \n",
       "5      2.684071      2.991899      2.787318      2.640110      2.746808  ...   \n",
       "6      2.724088      3.139097      2.756279      2.703321      2.774226  ...   \n",
       "7      2.738780      3.108978      2.745614      2.663532      2.766687  ...   \n",
       "\n",
       "   ASCRP3013609  ASCRP3013610  ASCRP3013611  ASCRP3013612  ASCRP3013613  \\\n",
       "0      2.718707      2.573881      2.636924      2.613567      2.578540   \n",
       "1      3.007003      2.681130      2.808336      2.655350      2.651962   \n",
       "2      2.940942      2.683128      2.812688      2.651431      2.672845   \n",
       "3      3.022133      2.695389      2.809058      2.664040      2.646913   \n",
       "4      2.903521      2.690415      2.839018      2.664040      2.637764   \n",
       "5      3.020832      2.707199      2.939616      2.654563      2.689033   \n",
       "6      3.028424      2.662660      2.680176      2.662660      2.625725   \n",
       "7      3.036906      2.674296      2.770400      2.669528      2.650632   \n",
       "\n",
       "   ASCRP3013614  ASCRP3013615  ASCRP3013616  ASCRP3013617  Dignosis  \n",
       "0      3.018938      2.632847      2.664040      3.156186         0  \n",
       "1      3.069999      2.658697      2.725773      3.141969         0  \n",
       "2      2.993315      2.662660      2.721054      3.204225         0  \n",
       "3      3.051435      2.670520      2.736215      3.148329         0  \n",
       "4      3.123545      2.687444      2.772738      3.248045         0  \n",
       "5      3.079634      2.667676      2.740111      3.102477         0  \n",
       "6      2.854340      2.650365      2.692018      3.242465         0  \n",
       "7      2.994820      2.665558      2.728696      3.138097         0  \n",
       "\n",
       "[8 rows x 13618 columns]>"
      ]
     },
     "execution_count": 4,
     "metadata": {},
     "output_type": "execute_result"
    }
   ],
   "source": [
    "df.info"
   ]
  },
  {
   "cell_type": "code",
   "execution_count": 5,
   "id": "ddb4163a",
   "metadata": {},
   "outputs": [
    {
     "data": {
      "text/html": [
       "<div>\n",
       "<style scoped>\n",
       "    .dataframe tbody tr th:only-of-type {\n",
       "        vertical-align: middle;\n",
       "    }\n",
       "\n",
       "    .dataframe tbody tr th {\n",
       "        vertical-align: top;\n",
       "    }\n",
       "\n",
       "    .dataframe thead th {\n",
       "        text-align: right;\n",
       "    }\n",
       "</style>\n",
       "<table border=\"1\" class=\"dataframe\">\n",
       "  <thead>\n",
       "    <tr style=\"text-align: right;\">\n",
       "      <th></th>\n",
       "      <th>ASCRP3000001</th>\n",
       "      <th>ASCRP3000002</th>\n",
       "      <th>ASCRP3000003</th>\n",
       "      <th>ASCRP3000004</th>\n",
       "      <th>ASCRP3000005</th>\n",
       "      <th>ASCRP3000006</th>\n",
       "      <th>ASCRP3000007</th>\n",
       "      <th>ASCRP3000008</th>\n",
       "      <th>ASCRP3000009</th>\n",
       "      <th>ASCRP3000010</th>\n",
       "      <th>...</th>\n",
       "      <th>ASCRP3013609</th>\n",
       "      <th>ASCRP3013610</th>\n",
       "      <th>ASCRP3013611</th>\n",
       "      <th>ASCRP3013612</th>\n",
       "      <th>ASCRP3013613</th>\n",
       "      <th>ASCRP3013614</th>\n",
       "      <th>ASCRP3013615</th>\n",
       "      <th>ASCRP3013616</th>\n",
       "      <th>ASCRP3013617</th>\n",
       "      <th>Dignosis</th>\n",
       "    </tr>\n",
       "  </thead>\n",
       "  <tbody>\n",
       "    <tr>\n",
       "      <th>Dignosis</th>\n",
       "      <td>NaN</td>\n",
       "      <td>NaN</td>\n",
       "      <td>NaN</td>\n",
       "      <td>NaN</td>\n",
       "      <td>NaN</td>\n",
       "      <td>NaN</td>\n",
       "      <td>NaN</td>\n",
       "      <td>NaN</td>\n",
       "      <td>NaN</td>\n",
       "      <td>NaN</td>\n",
       "      <td>...</td>\n",
       "      <td>NaN</td>\n",
       "      <td>NaN</td>\n",
       "      <td>NaN</td>\n",
       "      <td>NaN</td>\n",
       "      <td>NaN</td>\n",
       "      <td>NaN</td>\n",
       "      <td>NaN</td>\n",
       "      <td>NaN</td>\n",
       "      <td>NaN</td>\n",
       "      <td>NaN</td>\n",
       "    </tr>\n",
       "  </tbody>\n",
       "</table>\n",
       "<p>1 rows × 13618 columns</p>\n",
       "</div>"
      ],
      "text/plain": [
       "          ASCRP3000001  ASCRP3000002  ASCRP3000003  ASCRP3000004  \\\n",
       "Dignosis           NaN           NaN           NaN           NaN   \n",
       "\n",
       "          ASCRP3000005  ASCRP3000006  ASCRP3000007  ASCRP3000008  \\\n",
       "Dignosis           NaN           NaN           NaN           NaN   \n",
       "\n",
       "          ASCRP3000009  ASCRP3000010  ...  ASCRP3013609  ASCRP3013610  \\\n",
       "Dignosis           NaN           NaN  ...           NaN           NaN   \n",
       "\n",
       "          ASCRP3013611  ASCRP3013612  ASCRP3013613  ASCRP3013614  \\\n",
       "Dignosis           NaN           NaN           NaN           NaN   \n",
       "\n",
       "          ASCRP3013615  ASCRP3013616  ASCRP3013617  Dignosis  \n",
       "Dignosis           NaN           NaN           NaN       NaN  \n",
       "\n",
       "[1 rows x 13618 columns]"
      ]
     },
     "execution_count": 5,
     "metadata": {},
     "output_type": "execute_result"
    }
   ],
   "source": [
    "pd.DataFrame([df.corr()['Dignosis'].sort_values()])"
   ]
  },
  {
   "cell_type": "code",
   "execution_count": 6,
   "id": "4e3c0afc",
   "metadata": {},
   "outputs": [],
   "source": [
    "X_train = df.iloc[:,:-1]\n",
    "y_train  = df.iloc[:,-1:]"
   ]
  },
  {
   "cell_type": "code",
   "execution_count": 7,
   "id": "e88f0b4e",
   "metadata": {},
   "outputs": [],
   "source": [
    "y_train  = df.iloc[:,-1:]"
   ]
  },
  {
   "cell_type": "code",
   "execution_count": 8,
   "id": "84a4e214",
   "metadata": {},
   "outputs": [],
   "source": [
    "# Convert from integer to float\n",
    "X_train_fl = X_train.astype(float, 64)\n",
    "#X_test_fl = X_test.astype(float, 64)\n",
    "\n",
    "# Apply the same scaling to both datasets\n",
    "scaler = StandardScaler()\n",
    "X_train_scl = scaler.fit_transform(X_train_fl)\n",
    "#X_test_scl = scaler.transform(X_test_fl) # note that we transform rather than fit_transform"
   ]
  },
  {
   "cell_type": "code",
   "execution_count": null,
   "id": "894ba8c8",
   "metadata": {},
   "outputs": [],
   "source": []
  },
  {
   "cell_type": "code",
   "execution_count": 9,
   "id": "d27e22f5",
   "metadata": {},
   "outputs": [],
   "source": [
    "pca = PCA()\n",
    "z= pca.fit_transform(X_train)"
   ]
  },
  {
   "cell_type": "code",
   "execution_count": 10,
   "id": "df2778ff",
   "metadata": {},
   "outputs": [
    {
     "data": {
      "text/plain": [
       "array([ 1.05775803e+01,  1.06204821e+00, -1.75267052e+00,  1.19682884e-01,\n",
       "       -1.91096160e-01,  1.93516266e-02, -3.04913301e-03,  2.25589959e-14])"
      ]
     },
     "execution_count": 10,
     "metadata": {},
     "output_type": "execute_result"
    }
   ],
   "source": [
    "z[0]"
   ]
  },
  {
   "cell_type": "code",
   "execution_count": 70,
   "id": "f000a808",
   "metadata": {},
   "outputs": [
    {
     "name": "stdout",
     "output_type": "stream",
     "text": [
      "3 features explain around 90% of the variance. From 7129 features to 3, not too bad.\n"
     ]
    },
    {
     "data": {
      "image/png": "[encoded data removed]",
      "text/plain": [
       "<Figure size 432x288 with 1 Axes>"
      ]
     },
     "metadata": {
      "needs_background": "light"
     },
     "output_type": "display_data"
    }
   ],
   "source": [
    "total = sum(pca.explained_variance_)\n",
    "k = 0\n",
    "current_variance = 0\n",
    "while current_variance/total < 0.90:\n",
    "    current_variance += pca.explained_variance_[k]\n",
    "    k = k + 1\n",
    "    \n",
    "print(k, \" features explain around 90% of the variance. From 7129 features to \", k, \", not too bad.\", sep='')\n",
    "\n",
    "pca = PCA(n_components=k)\n",
    "X_train.pca = pca.fit(X_train)\n",
    "X_train_pca = pca.transform(X_train)\n",
    "#X_test_pca = pca.transform(X_test)\n",
    "\n",
    "var_exp = pca.explained_variance_ratio_.cumsum()\n",
    "var_exp = var_exp*100\n",
    "plt.bar(range(k), var_exp);"
   ]
  },
  {
   "cell_type": "code",
   "execution_count": 23,
   "id": "30111739",
   "metadata": {},
   "outputs": [],
   "source": [
    "pca3 = PCA(n_components= 8).fit(X_train)\n",
    "X_train_reduced = pca3.transform(X_train)"
   ]
  },
  {
   "cell_type": "code",
   "execution_count": 24,
   "id": "5595188b",
   "metadata": {},
   "outputs": [
    {
     "data": {
      "text/plain": [
       "8"
      ]
     },
     "execution_count": 24,
     "metadata": {},
     "output_type": "execute_result"
    }
   ],
   "source": [
    "len(X_train_reduced)"
   ]
  },
  {
   "cell_type": "code",
   "execution_count": 85,
   "id": "f0a957d3",
   "metadata": {},
   "outputs": [
    {
     "name": "stdout",
     "output_type": "stream",
     "text": [
      "[5.37091602e-01 2.70702204e-01 1.03780745e-01 4.03938803e-02\n",
      " 2.57951015e-02 1.30019546e-02 9.23451283e-03 1.46068259e-29]\n"
     ]
    }
   ],
   "source": [
    "print(pca3.explained_variance_ratio_)"
   ]
  },
  {
   "cell_type": "code",
   "execution_count": 32,
   "id": "7dece493",
   "metadata": {},
   "outputs": [
    {
     "name": "stdout",
     "output_type": "stream",
     "text": [
      "(8, 23)\n"
     ]
    },
    {
     "name": "stderr",
     "output_type": "stream",
     "text": [
      "C:\\Users\\laptop\\AppData\\Roaming\\Python\\Python38\\site-packages\\sklearn\\utils\\validation.py:72: DataConversionWarning: A column-vector y was passed when a 1d array was expected. Please change the shape of y to (n_samples, ), for example using ravel().\n",
      "  return f(**kwargs)\n",
      "C:\\Users\\laptop\\AppData\\Roaming\\Python\\Python38\\site-packages\\sklearn\\feature_selection\\_univariate_selection.py:303: RuntimeWarning: invalid value encountered in true_divide\n",
      "  corr /= np.linalg.norm(y)\n"
     ]
    }
   ],
   "source": [
    "from sklearn.datasets import make_regression\n",
    "from sklearn.feature_selection import SelectKBest\n",
    "from sklearn.feature_selection import f_regression\n",
    "# generate dataset\n",
    "X, y = make_regression(n_samples=100, n_features=100, n_informative=10)\n",
    "# define feature selection\n",
    "fs = SelectKBest(score_func=f_regression, k=23)\n",
    "# apply feature selection\n",
    "X_selected = fs.fit_transform(X_train, y_train)\n",
    "print(X_selected.shape)"
   ]
  },
  {
   "cell_type": "code",
   "execution_count": 37,
   "id": "41cb91ad",
   "metadata": {},
   "outputs": [
    {
     "data": {
      "text/plain": [
       "array([2.9356313 , 3.12112767, 2.68407058, 2.58181396, 3.61415029,\n",
       "       2.67993746, 3.38273228, 2.62088197, 2.59066512, 2.59066512,\n",
       "       2.675392  , 2.67150896, 2.66767562, 2.7344877 , 2.7187073 ,\n",
       "       2.57388115, 2.63692387, 2.61356713, 2.57854025, 3.01893832,\n",
       "       2.63284721, 2.66404036, 3.15618628])"
      ]
     },
     "execution_count": 37,
     "metadata": {},
     "output_type": "execute_result"
    }
   ],
   "source": [
    "X_selected[0]"
   ]
  },
  {
   "cell_type": "code",
   "execution_count": 34,
   "id": "ad0df0a9",
   "metadata": {},
   "outputs": [
    {
     "name": "stdout",
     "output_type": "stream",
     "text": [
      "(8, 23)\n"
     ]
    },
    {
     "name": "stderr",
     "output_type": "stream",
     "text": [
      "C:\\Users\\laptop\\AppData\\Roaming\\Python\\Python38\\site-packages\\sklearn\\utils\\validation.py:72: DataConversionWarning: A column-vector y was passed when a 1d array was expected. Please change the shape of y to (n_samples, ), for example using ravel().\n",
      "  return f(**kwargs)\n",
      "C:\\Users\\laptop\\AppData\\Roaming\\Python\\Python38\\site-packages\\sklearn\\feature_selection\\_univariate_selection.py:110: RuntimeWarning: invalid value encountered in true_divide\n",
      "  msb = ssbn / float(dfbn)\n"
     ]
    }
   ],
   "source": [
    "# ANOVA feature selection for numeric input and categorical output\n",
    "from sklearn.datasets import make_classification\n",
    "from sklearn.feature_selection import SelectKBest\n",
    "from sklearn.feature_selection import f_classif\n",
    "# generate dataset\n",
    "X, y = make_classification(n_samples=100, n_features=20, n_informative=2)\n",
    "# define feature selection\n",
    "fs = SelectKBest(score_func=f_classif, k=23)\n",
    "# apply feature selection\n",
    "X_selected = fs.fit_transform(X_train, y_train)\n",
    "print(X_selected.shape)"
   ]
  },
  {
   "cell_type": "code",
   "execution_count": 36,
   "id": "ad6e85db",
   "metadata": {},
   "outputs": [
    {
     "data": {
      "text/plain": [
       "array([2.9356313 , 3.12112767, 2.68407058, 2.58181396, 3.61415029,\n",
       "       2.67993746, 3.38273228, 2.62088197, 2.59066512, 2.59066512,\n",
       "       2.675392  , 2.67150896, 2.66767562, 2.7344877 , 2.7187073 ,\n",
       "       2.57388115, 2.63692387, 2.61356713, 2.57854025, 3.01893832,\n",
       "       2.63284721, 2.66404036, 3.15618628])"
      ]
     },
     "execution_count": 36,
     "metadata": {},
     "output_type": "execute_result"
    }
   ],
   "source": [
    "X_selected[ 0]"
   ]
  },
  {
   "cell_type": "code",
   "execution_count": null,
   "id": "24f55315",
   "metadata": {},
   "outputs": [],
   "source": []
  },
  {
   "cell_type": "code",
   "execution_count": null,
   "id": "6afbd3db",
   "metadata": {},
   "outputs": [],
   "source": []
  }
 ],
 "metadata": {
  "kernelspec": {
   "display_name": "PyCharm (4th)",
   "language": "python",
   "name": "pycharm-7325307b"
  },
  "language_info": {
   "codemirror_mode": {
    "name": "ipython",
    "version": 3
   },
   "file_extension": ".py",
   "mimetype": "text/x-python",
   "name": "python",
   "nbconvert_exporter": "python",
   "pygments_lexer": "ipython3",
   "version": "3.8.12"
  }
 },
 "nbformat": 4,
 "nbformat_minor": 5
}
